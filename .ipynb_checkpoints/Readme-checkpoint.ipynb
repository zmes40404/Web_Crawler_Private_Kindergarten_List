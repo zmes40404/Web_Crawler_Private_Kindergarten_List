{
 "cells": [
  {
   "cell_type": "markdown",
   "id": "55c6920a",
   "metadata": {},
   "source": [
    "# 全台私立幼兒園名單 Web Crawler - 全國教保資訊網\n",
    "\n",
    "---\n",
    "## [URL](https://www.ece.moe.edu.tw/ch/)\n",
    "\n",
    "In order to grab the list of private kindergartens from the National Education Insurance Information Network, use Selenium, Beatuiful Soup, and Chrome Webdriver to complete. And output is an Excel file.\n",
    "<br />\n",
    "<br />\n",
    "\n",
    "\n",
    "<img src=\"全國教保資訊網首頁.png\" align='left' style=' width:480px;height:234px'/><br />\n",
    "<img src=\"基本資料查詢.png\" align='left' style=' width:480px;height:234px'/><br />\n",
    "               \n",
    "\n",
    "## Download\n",
    "--- \n",
    "- [chrome Driver](https://chromedriver.chromium.org/downloads)\n",
    "\n",
    "Download the latest version of ChromeDriver to avoid incompatibilities with your chrome browser version.\n",
    "\n",
    "## Requirements\n",
    "---\n",
    "- Windows 10\n",
    "- Python 3.7.13\n",
    "- Selenium 4.4.0\n",
    "- Beautifulsoup4 4.11.1\n",
    "- openpyxl 3.0.10\n",
    "- pandas 1.3.5\n",
    "- request 2.28.1\n",
    "\n",
    "## Output Sample\n",
    "---\n",
    "<img src=\"output_sample.png\" align='left' /><br />\n",
    "\n"
   ]
  }
 ],
 "metadata": {
  "kernelspec": {
   "display_name": "Python 3 (ipykernel)",
   "language": "python",
   "name": "python3"
  },
  "language_info": {
   "codemirror_mode": {
    "name": "ipython",
    "version": 3
   },
   "file_extension": ".py",
   "mimetype": "text/x-python",
   "name": "python",
   "nbconvert_exporter": "python",
   "pygments_lexer": "ipython3",
   "version": "3.9.7"
  }
 },
 "nbformat": 4,
 "nbformat_minor": 5
}
